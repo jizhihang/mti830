{
 "worksheets": [
  {
   "cells": [
    {
     "cell_type": "markdown",
     "metadata": {},
     "source": [
      "#Introduction au TALN en python"
     ]
    },
    {
     "cell_type": "markdown",
     "metadata": {},
     "source": [
      "###Représentation du texte:"
     ]
    },
    {
     "cell_type": "code",
     "execution_count": null,
     "metadata": {},
     "outputs": [],
     "input": [
      "s1 = 'Bonjour tout le monde'\n",
      "#print s1"
     ],
     "language": "python",
     "prompt_number": 1
    },
    {
     "cell_type": "code",
     "execution_count": null,
     "metadata": {},
     "outputs": [
      {
       "output_type": "stream",
       "stream": "stdout",
       "text": [
        "Bonjour tout le monde\n"
       ]
      }
     ],
     "input": [
      "print s1"
     ],
     "language": "python",
     "prompt_number": 2
    },
    {
     "cell_type": "code",
     "execution_count": null,
     "metadata": {},
     "outputs": [
      {
       "output_type": "stream",
       "stream": "stdout",
       "text": [
        "Hello world\n"
       ]
      }
     ],
     "input": [
      "s2 = \"Hello world\"\n",
      "print s2"
     ],
     "language": "python",
     "prompt_number": 3
    },
    {
     "cell_type": "markdown",
     "metadata": {},
     "source": [
      "### une string est vu comme un array, alors on peut voir sa longeur et acceder aux éléments par des index"
     ]
    },
    {
     "cell_type": "code",
     "execution_count": null,
     "metadata": {},
     "outputs": [
      {
       "output_type": "stream",
       "stream": "stdout",
       "text": [
        "11\n"
       ]
      }
     ],
     "input": [
      "print len(s2)"
     ],
     "language": "python",
     "prompt_number": 5
    },
    {
     "cell_type": "code",
     "execution_count": null,
     "metadata": {},
     "outputs": [
      {
       "output_type": "stream",
       "stream": "stdout",
       "text": [
        "B\n"
       ]
      }
     ],
     "input": [
      "print s1[0]"
     ],
     "language": "python",
     "prompt_number": 6
    },
    {
     "cell_type": "code",
     "execution_count": null,
     "metadata": {},
     "outputs": [
      {
       "output_type": "pyout",
       "prompt_number": 8,
       "text": [
        "'Bonjour t'"
       ],
       "metadata": {}
      }
     ],
     "input": [
      "s1[0:9]"
     ],
     "language": "python",
     "prompt_number": 8
    },
    {
     "cell_type": "code",
     "execution_count": null,
     "metadata": {},
     "outputs": [
      {
       "output_type": "stream",
       "stream": "stdout",
       "text": [
        "ur tout le monde\n"
       ]
      }
     ],
     "input": [
      "print s1[5:]"
     ],
     "language": "python",
     "prompt_number": 6
    },
    {
     "cell_type": "code",
     "execution_count": null,
     "metadata": {},
     "outputs": [
      {
       "output_type": "stream",
       "stream": "stdout",
       "text": [
        "Bonjour\n"
       ]
      }
     ],
     "input": [
      "print s1[:7]"
     ],
     "language": "python",
     "prompt_number": 34
    },
    {
     "cell_type": "markdown",
     "metadata": {},
     "source": [
      "### De la même façon que R, python nous permet de convertir les charactères en minuscules ou majuscules "
     ]
    },
    {
     "cell_type": "code",
     "execution_count": null,
     "metadata": {},
     "outputs": [
      {
       "output_type": "stream",
       "stream": "stdout",
       "text": [
        "BONJOUR TOUT LE MONDE\n"
       ]
      }
     ],
     "input": [
      "s3 = s1.upper()\n",
      "print s3"
     ],
     "language": "python",
     "prompt_number": 7
    },
    {
     "cell_type": "code",
     "execution_count": null,
     "metadata": {},
     "outputs": [
      {
       "output_type": "stream",
       "stream": "stdout",
       "text": [
        "bonjour tout le monde\n"
       ]
      }
     ],
     "input": [
      "s4 = s3.lower()\n",
      "print s4"
     ],
     "language": "python",
     "prompt_number": 9
    },
    {
     "cell_type": "code",
     "execution_count": null,
     "metadata": {},
     "outputs": [
      {
       "output_type": "stream",
       "stream": "stdout",
       "text": [
        "1\n"
       ]
      }
     ],
     "input": [
      "print s4.find('o')"
     ],
     "language": "python",
     "prompt_number": 10
    },
    {
     "cell_type": "markdown",
     "metadata": {},
     "source": [
      "###Comme dans d'autres langages de programmation, la concatenation se fait en utilisant l'opérateur \"+\""
     ]
    },
    {
     "cell_type": "code",
     "execution_count": null,
     "metadata": {},
     "outputs": [
      {
       "output_type": "stream",
       "stream": "stdout",
       "text": [
        "Bonjourtoutlemonde\n"
       ]
      }
     ],
     "input": [
      "s1 = 'Bonjour'\n",
      "s2 = 'tout'\n",
      "s3 = 'le'\n",
      "s4 = 'monde'\n",
      "s5 = s1+s2+s3+s4\n",
      "print s5"
     ],
     "language": "python",
     "prompt_number": 23
    },
    {
     "cell_type": "code",
     "execution_count": null,
     "metadata": {},
     "outputs": [
      {
       "output_type": "stream",
       "stream": "stdout",
       "text": [
        "Bonjour tout le monde\n"
       ]
      }
     ],
     "input": [
      "s0 = ' '\n",
      "s6 = s1+s0+s2+s0+s3+s0+s4\n",
      "print s6"
     ],
     "language": "python",
     "prompt_number": 24
    },
    {
     "cell_type": "markdown",
     "metadata": {},
     "source": [
      "#### opérateur *\n"
     ]
    },
    {
     "cell_type": "code",
     "execution_count": null,
     "metadata": {},
     "outputs": [
      {
       "output_type": "stream",
       "stream": "stdout",
       "text": [
        "Bonjour tout le mondeBonjour tout le mondeBonjour tout le monde\n"
       ]
      }
     ],
     "input": [
      "s7 = s6*3\n",
      "print s7"
     ],
     "language": "python",
     "prompt_number": 25
    },
    {
     "cell_type": "markdown",
     "metadata": {},
     "source": [
      "Pour le traitement de texte, on préfère avoir une phrase comme une liste de strings "
     ]
    },
    {
     "cell_type": "code",
     "execution_count": null,
     "metadata": {},
     "outputs": [],
     "input": [
      "s1 = \"L'essentiel est \\\"invisible\\\" pour les yeux.\"\n",
      "s1 = s1.upper()"
     ],
     "language": "python",
     "prompt_number": 33
    },
    {
     "cell_type": "code",
     "execution_count": null,
     "metadata": {},
     "outputs": [
      {
       "output_type": "stream",
       "stream": "stdout",
       "text": [
        "L'ESSENTIEL EST \"INVISIBLE\" POUR LES YEUX.\n",
        "42\n"
       ]
      }
     ],
     "input": [
      "print s1\n",
      "print len(s1)"
     ],
     "language": "python",
     "prompt_number": 34
    },
    {
     "cell_type": "code",
     "execution_count": null,
     "metadata": {},
     "outputs": [
      {
       "output_type": "stream",
       "stream": "stdout",
       "text": [
        "[\"L'ESSENTIEL\", 'EST', '\"INVISIBLE\"', 'POUR', 'LES', 'YEUX.']\n"
       ]
      }
     ],
     "input": [
      "s1 = s1.split()\n",
      "print s1"
     ],
     "language": "python",
     "prompt_number": 35
    },
    {
     "cell_type": "markdown",
     "metadata": {},
     "source": [
      "### Les mots sont représentés par des strings\n",
      "### les phrases on va les représenter par des listes de strings"
     ]
    },
    {
     "cell_type": "code",
     "execution_count": null,
     "metadata": {},
     "outputs": [
      {
       "output_type": "stream",
       "stream": "stdout",
       "text": [
        "3\n"
       ]
      }
     ],
     "input": [
      "print s1.index('pour')"
     ],
     "language": "python",
     "prompt_number": 26
    },
    {
     "cell_type": "code",
     "execution_count": null,
     "metadata": {},
     "outputs": [
      {
       "output_type": "stream",
       "stream": "stdout",
       "text": [
        "True\n"
       ]
      }
     ],
     "input": [
      "print 'est' in s1"
     ],
     "language": "python",
     "prompt_number": 28
    },
    {
     "cell_type": "code",
     "execution_count": null,
     "metadata": {},
     "outputs": [
      {
       "output_type": "stream",
       "stream": "stdout",
       "text": [
        "6\n"
       ]
      }
     ],
     "input": [
      "print len(s1)"
     ],
     "language": "python",
     "prompt_number": 29
    },
    {
     "cell_type": "markdown",
     "metadata": {},
     "source": [
      "###Normaliser le text"
     ]
    },
    {
     "cell_type": "code",
     "execution_count": null,
     "metadata": {},
     "outputs": [
      {
       "output_type": "stream",
       "stream": "stdout",
       "text": [
        "[\"l'essentiel\", 'est', '\"invisible\"', 'pour', 'les', 'yeux.']\n"
       ]
      }
     ],
     "input": [
      "s1_min = [w.lower() for w in s1]\n",
      "print s1_min"
     ],
     "language": "python",
     "prompt_number": 36
    },
    {
     "cell_type": "code",
     "execution_count": null,
     "metadata": {},
     "outputs": [],
     "input": [
      "s6 = 'Bonjour'"
     ],
     "language": "python",
     "prompt_number": 37
    },
    {
     "cell_type": "code",
     "execution_count": null,
     "metadata": {},
     "outputs": [
      {
       "output_type": "pyout",
       "prompt_number": 42,
       "text": [
        "False"
       ],
       "metadata": {}
      }
     ],
     "input": [
      "s6.endswith('oul')"
     ],
     "language": "python",
     "prompt_number": 42
    },
    {
     "cell_type": "markdown",
     "metadata": {},
     "source": [
      "# NLTK : Natural language tool kit\n"
     ]
    },
    {
     "cell_type": "code",
     "execution_count": null,
     "metadata": {},
     "outputs": [],
     "input": [
      "import nltk"
     ],
     "language": "python",
     "prompt_number": 43
    },
    {
     "cell_type": "code",
     "execution_count": null,
     "metadata": {},
     "outputs": [],
     "input": [
      "s1 = 'Hello, my name is Erick'\n",
      "s2 = s1.split()"
     ],
     "language": "python",
     "prompt_number": 44
    },
    {
     "cell_type": "code",
     "execution_count": null,
     "metadata": {},
     "outputs": [
      {
       "output_type": "stream",
       "stream": "stdout",
       "text": [
        "['Hello,', 'my', 'name', 'is', 'Erick']\n"
       ]
      }
     ],
     "input": [
      "print s2"
     ],
     "language": "python",
     "prompt_number": 45
    },
    {
     "cell_type": "markdown",
     "metadata": {},
     "source": [
      "## Tokenization avec nltk"
     ]
    },
    {
     "cell_type": "code",
     "execution_count": null,
     "metadata": {},
     "outputs": [
      {
       "output_type": "pyout",
       "prompt_number": 47,
       "text": [
        "['Hello', ',', 'my', 'name', 'is', 'Erick']"
       ],
       "metadata": {}
      }
     ],
     "input": [
      "nltk.word_tokenize(s1)"
     ],
     "language": "python",
     "prompt_number": 47
    },
    {
     "cell_type": "markdown",
     "metadata": {},
     "source": [
      "####Quelle est la différence antre le tokenizer de nltk et la fonction split d'un string?"
     ]
    },
    {
     "cell_type": "markdown",
     "metadata": {},
     "source": [
      "###Les stopwords "
     ]
    },
    {
     "cell_type": "code",
     "execution_count": null,
     "metadata": {},
     "outputs": [],
     "input": [
      "from nltk.corpus import stopwords"
     ],
     "language": "python",
     "prompt_number": 48
    },
    {
     "cell_type": "code",
     "execution_count": null,
     "metadata": {},
     "outputs": [],
     "input": [
      "frenchStopWords = stopwords.words('french')\n",
      "englishStopWords = stopwords.words('english')\n",
      "spanishStopWords = stopwords.words('spanish')"
     ],
     "language": "python",
     "prompt_number": 49
    },
    {
     "cell_type": "code",
     "execution_count": null,
     "metadata": {},
     "outputs": [],
     "input": [
      "def printListOfWords(listOfWords):\n",
      "    for w in listOfWords:\n",
      "        print w\n",
      "    return"
     ],
     "language": "python",
     "prompt_number": 50
    },
    {
     "cell_type": "code",
     "execution_count": null,
     "metadata": {},
     "outputs": [],
     "input": [
      ""
     ],
     "language": "python"
    },
    {
     "cell_type": "code",
     "execution_count": null,
     "metadata": {},
     "outputs": [],
     "input": [
      "#printListOfWords(frenchStopWords)"
     ],
     "language": "python",
     "prompt_number": 6
    },
    {
     "cell_type": "code",
     "execution_count": null,
     "metadata": {},
     "outputs": [],
     "input": [
      ""
     ],
     "language": "python"
    },
    {
     "cell_type": "code",
     "execution_count": null,
     "metadata": {},
     "outputs": [],
     "input": [
      "#printListOfWords(spanishStopWords)"
     ],
     "language": "python",
     "prompt_number": 5
    },
    {
     "cell_type": "code",
     "execution_count": null,
     "metadata": {},
     "outputs": [],
     "input": [
      "#printListOfWords(englishStopWords)"
     ],
     "language": "python",
     "prompt_number": 4
    },
    {
     "cell_type": "code",
     "execution_count": null,
     "metadata": {},
     "outputs": [
      {
       "output_type": "stream",
       "stream": "stdout",
       "text": [
        "*** Introductory Examples for the NLTK Book ***\n",
        "Loading text1, ..., text9 and sent1, ..., sent9\n",
        "Type the name of the text or sentence to view it.\n",
        "Type: 'texts()' or 'sents()' to list the materials.\n",
        "text1:"
       ]
      },
      {
       "output_type": "stream",
       "stream": "stdout",
       "text": [
        " Moby Dick by Herman Melville 1851\n",
        "text2:"
       ]
      },
      {
       "output_type": "stream",
       "stream": "stdout",
       "text": [
        " Sense and Sensibility by Jane Austen 1811\n",
        "text3:"
       ]
      },
      {
       "output_type": "stream",
       "stream": "stdout",
       "text": [
        " The Book of Genesis\n",
        "text4:"
       ]
      },
      {
       "output_type": "stream",
       "stream": "stdout",
       "text": [
        " Inaugural Address Corpus\n",
        "text5:"
       ]
      },
      {
       "output_type": "stream",
       "stream": "stdout",
       "text": [
        " Chat Corpus\n",
        "text6:"
       ]
      },
      {
       "output_type": "stream",
       "stream": "stdout",
       "text": [
        " Monty Python and the Holy Grail\n",
        "text7:"
       ]
      },
      {
       "output_type": "stream",
       "stream": "stdout",
       "text": [
        " Wall Street Journal\n",
        "text8: Personals Corpus\n",
        "text9:"
       ]
      },
      {
       "output_type": "stream",
       "stream": "stdout",
       "text": [
        " The Man Who Was Thursday by G . K . Chesterton 1908\n"
       ]
      }
     ],
     "input": [
      "from nltk.book import *"
     ],
     "language": "python",
     "prompt_number": 54
    },
    {
     "cell_type": "code",
     "execution_count": null,
     "metadata": {},
     "outputs": [],
     "input": [
      "#print text7.tokens"
     ],
     "language": "python",
     "prompt_number": 138
    },
    {
     "cell_type": "markdown",
     "metadata": {},
     "source": [
      "###Compter le vocabulaire:"
     ]
    },
    {
     "cell_type": "code",
     "execution_count": null,
     "metadata": {},
     "outputs": [],
     "input": [
      "#print text7.tokens"
     ],
     "language": "python",
     "prompt_number": 122
    },
    {
     "cell_type": "code",
     "execution_count": null,
     "metadata": {},
     "outputs": [
      {
       "output_type": "stream",
       "stream": "stdout",
       "text": [
        "628\n"
       ]
      }
     ],
     "input": [
      "print text7.count('said')"
     ],
     "language": "python",
     "prompt_number": 123
    },
    {
     "cell_type": "markdown",
     "metadata": {},
     "source": [
      "###Distribution de la frequence des mots"
     ]
    },
    {
     "cell_type": "code",
     "execution_count": null,
     "metadata": {},
     "outputs": [
      {
       "output_type": "pyout",
       "prompt_number": 60,
       "text": [
        "<FreqDist with 12408 samples and 100676 outcomes>"
       ],
       "metadata": {}
      }
     ],
     "input": [
      "frecList = FreqDist(text7)\n",
      "frecList ## les outcomes c'est le nombre de mots"
     ],
     "language": "python",
     "prompt_number": 60
    },
    {
     "cell_type": "code",
     "execution_count": null,
     "metadata": {},
     "outputs": [
      {
       "output_type": "stream",
       "stream": "stdout",
       "text": [
        "[',', 'the', '.', 'of', 'to', 'a', 'in', 'and', '*-1', '0', '*', \"'s\", 'for', 'that', '*T*-1', '*U*', '$', 'The', '``', \"''\", 'is', 'said', 'on', 'it', '%', 'by', 'at', 'with', 'from', 'as', 'million', 'Mr.', '*-2', 'are', 'was', 'be', '*T*-2', 'has', 'its', \"n't\", 'have', 'an', 'or', 'will', 'company', '--', 'he', 'which', 'U.S.', 'year']\n"
       ]
      }
     ],
     "input": [
      "vocabulary = frecList.keys()\n",
      "print vocabulary[:50]"
     ],
     "language": "python",
     "prompt_number": 61
    },
    {
     "cell_type": "code",
     "execution_count": null,
     "metadata": {},
     "outputs": [],
     "input": [
      "frecList.plot(50,cumulative=False)"
     ],
     "language": "python",
     "prompt_number": 62
    },
    {
     "cell_type": "markdown",
     "metadata": {},
     "source": [
      "## mais le graphe montre beaucoup de stop words... alors que peut-on faire?"
     ]
    },
    {
     "cell_type": "code",
     "execution_count": null,
     "metadata": {},
     "outputs": [],
     "input": [
      "# 1 on normalise le text\n",
      "text7_m = [w.lower() for w in text7]"
     ],
     "language": "python",
     "prompt_number": 63
    },
    {
     "cell_type": "code",
     "execution_count": null,
     "metadata": {},
     "outputs": [],
     "input": [
      "#print text7_m"
     ],
     "language": "python",
     "prompt_number": 139
    },
    {
     "cell_type": "code",
     "execution_count": null,
     "metadata": {},
     "outputs": [],
     "input": [
      "text7_SansStW = [w for w in text7_m if w not in englishStopWords]"
     ],
     "language": "python",
     "prompt_number": 64
    },
    {
     "cell_type": "code",
     "execution_count": null,
     "metadata": {},
     "outputs": [],
     "input": [
      "frecList2 = FreqDist(text7_SansStW,)"
     ],
     "language": "python",
     "prompt_number": 65
    },
    {
     "cell_type": "code",
     "execution_count": null,
     "metadata": {},
     "outputs": [],
     "input": [
      "vocabulary2 = frecList2.keys()"
     ],
     "language": "python",
     "prompt_number": 66
    },
    {
     "cell_type": "code",
     "execution_count": null,
     "metadata": {},
     "outputs": [],
     "input": [
      "#vocabulary2[:50]"
     ],
     "language": "python",
     "prompt_number": 3
    },
    {
     "cell_type": "code",
     "execution_count": null,
     "metadata": {},
     "outputs": [],
     "input": [
      "frecList2.plot(50,cumulative=False)"
     ],
     "language": "python",
     "prompt_number": 68
    },
    {
     "cell_type": "markdown",
     "metadata": {},
     "source": [
      "##Les stemmers en python"
     ]
    },
    {
     "cell_type": "code",
     "execution_count": null,
     "metadata": {},
     "outputs": [],
     "input": [
      "from nltk.stem.porter import *"
     ],
     "language": "python",
     "prompt_number": 70
    },
    {
     "cell_type": "code",
     "execution_count": null,
     "metadata": {},
     "outputs": [],
     "input": [
      ""
     ],
     "language": "python"
    },
    {
     "cell_type": "code",
     "execution_count": null,
     "metadata": {},
     "outputs": [],
     "input": [
      "stemmer = PorterStemmer()"
     ],
     "language": "python",
     "prompt_number": 71
    },
    {
     "cell_type": "code",
     "execution_count": null,
     "metadata": {},
     "outputs": [],
     "input": [
      "plurals = ['caresses', 'flies', 'dies', 'mules', 'denied',\n",
      "...            'died', 'agreed', 'owned', 'humbled', 'sized',\n",
      "...            'meeting', 'stating', 'siezing', 'itemization',\n",
      "...            'sensational', 'traditional', 'reference', 'colonizer',\n",
      "...            'plotted']\n",
      "singular = []"
     ],
     "language": "python",
     "prompt_number": 72
    },
    {
     "cell_type": "code",
     "execution_count": null,
     "metadata": {},
     "outputs": [],
     "input": [
      "for plural in plurals:\n",
      "    singular.append(stemmer.stem(plural))"
     ],
     "language": "python",
     "prompt_number": 73
    },
    {
     "cell_type": "code",
     "execution_count": null,
     "metadata": {},
     "outputs": [
      {
       "output_type": "stream",
       "stream": "stdout",
       "text": [
        "['caress', 'fli', 'die', 'mule', 'deni', 'die', 'agre', 'own', 'humbl', 'size', 'meet', 'state', 'siez', 'item', 'sensat', 'tradit', 'refer', 'colon', 'plot']\n"
       ]
      }
     ],
     "input": [
      "print singular"
     ],
     "language": "python",
     "prompt_number": 74
    },
    {
     "cell_type": "code",
     "execution_count": null,
     "metadata": {},
     "outputs": [],
     "input": [
      "from nltk.stem.snowball import SnowballStemmer"
     ],
     "language": "python",
     "prompt_number": 75
    },
    {
     "cell_type": "code",
     "execution_count": null,
     "metadata": {},
     "outputs": [
      {
       "output_type": "stream",
       "stream": "stdout",
       "text": [
        "danish dutch english finnish french german hungarian italian norwegian porter portuguese romanian russian spanish swedish\n"
       ]
      }
     ],
     "input": [
      "print(\" \".join(SnowballStemmer.languages))"
     ],
     "language": "python",
     "prompt_number": 76
    },
    {
     "cell_type": "code",
     "execution_count": null,
     "metadata": {},
     "outputs": [],
     "input": [
      "steemerFr = SnowballStemmer(\"french\")"
     ],
     "language": "python",
     "prompt_number": 77
    },
    {
     "cell_type": "code",
     "execution_count": null,
     "metadata": {},
     "outputs": [
      {
       "output_type": "pyout",
       "prompt_number": 78,
       "text": [
        "u'fin'"
       ],
       "metadata": {}
      }
     ],
     "input": [
      "steemerFr.stem('finissons')"
     ],
     "language": "python",
     "prompt_number": 78
    },
    {
     "cell_type": "code",
     "execution_count": null,
     "metadata": {},
     "outputs": [
      {
       "output_type": "pyout",
       "prompt_number": 83,
       "text": [
        "u'chat'"
       ],
       "metadata": {}
      }
     ],
     "input": [
      "steemerFr.stem(u'chats')"
     ],
     "language": "python",
     "prompt_number": 83
    },
    {
     "cell_type": "markdown",
     "metadata": {},
     "source": [
      "##Lemmatizer de WordNet"
     ]
    },
    {
     "cell_type": "code",
     "execution_count": null,
     "metadata": {},
     "outputs": [],
     "input": [
      "wnl = nltk.WordNetLemmatizer()"
     ],
     "language": "python",
     "prompt_number": 84
    },
    {
     "cell_type": "code",
     "execution_count": null,
     "metadata": {},
     "outputs": [
      {
       "output_type": "pyout",
       "prompt_number": 85,
       "text": [
        "['caress',\n",
        " 'fly',\n",
        " 'dy',\n",
        " 'mule',\n",
        " 'denied',\n",
        " 'died',\n",
        " 'agreed',\n",
        " 'owned',\n",
        " 'humbled',\n",
        " 'sized',\n",
        " 'meeting',\n",
        " 'stating',\n",
        " 'siezing',\n",
        " 'itemization',\n",
        " 'sensational',\n",
        " 'traditional',\n",
        " 'reference',\n",
        " 'colonizer',\n",
        " 'plotted']"
       ],
       "metadata": {}
      }
     ],
     "input": [
      "[wnl.lemmatize(t) for t in plurals]"
     ],
     "language": "python",
     "prompt_number": 85
    },
    {
     "cell_type": "code",
     "execution_count": null,
     "metadata": {},
     "outputs": [
      {
       "output_type": "pyout",
       "prompt_number": 86,
       "text": [
        "'lion'"
       ],
       "metadata": {}
      }
     ],
     "input": [
      "wnl.lemmatize('lions')"
     ],
     "language": "python",
     "prompt_number": 86
    },
    {
     "cell_type": "markdown",
     "metadata": {},
     "source": [
      "##Étiquetage de classes lexicales"
     ]
    },
    {
     "cell_type": "code",
     "execution_count": null,
     "metadata": {},
     "outputs": [
      {
       "output_type": "stream",
       "stream": "stdout",
       "text": [
        "['Jonh', 'gave', 'the', 'book', 'to', 'Anne']\n"
       ]
      }
     ],
     "input": [
      "text = \"Jonh gave the book to Anne\"\n",
      "text = nltk.word_tokenize(text)\n",
      "print text"
     ],
     "language": "python",
     "prompt_number": 87
    },
    {
     "cell_type": "code",
     "execution_count": null,
     "metadata": {},
     "outputs": [],
     "input": [
      "tag_text = nltk.pos_tag(text)"
     ],
     "language": "python",
     "prompt_number": 88
    },
    {
     "cell_type": "code",
     "execution_count": null,
     "metadata": {},
     "outputs": [
      {
       "output_type": "pyout",
       "prompt_number": 94,
       "text": [
        "'NNP'"
       ],
       "metadata": {}
      }
     ],
     "input": [
      "tag_text[0][1]"
     ],
     "language": "python",
     "prompt_number": 94
    },
    {
     "cell_type": "code",
     "execution_count": null,
     "metadata": {},
     "outputs": [],
     "input": [
      "text7_pos = nltk.pos_tag(text7_SansStW)"
     ],
     "language": "python",
     "prompt_number": 89
    },
    {
     "cell_type": "code",
     "execution_count": null,
     "metadata": {},
     "outputs": [],
     "input": [
      "#print text7_pos\n",
      "#choses_elever = [',','%']"
     ],
     "language": "python",
     "prompt_number": 1
    },
    {
     "cell_type": "code",
     "execution_count": null,
     "metadata": {},
     "outputs": [],
     "input": [
      "#[w for w in text7_m if w not in englishStopWords]\n",
      "\n",
      "verbs_t = [t for t in text7_pos if t[1].startswith('M')]"
     ],
     "language": "python",
     "prompt_number": 117
    },
    {
     "cell_type": "code",
     "execution_count": null,
     "metadata": {},
     "outputs": [],
     "input": [
      "#print verbs_t"
     ],
     "language": "python",
     "prompt_number": 2
    },
    {
     "cell_type": "code",
     "execution_count": null,
     "metadata": {},
     "outputs": [],
     "input": [
      "verbs =[w[0] for w in verbs_t]"
     ],
     "language": "python",
     "prompt_number": 119
    },
    {
     "cell_type": "code",
     "execution_count": null,
     "metadata": {},
     "outputs": [],
     "input": [
      "frecVerbs = FreqDist(verbs)"
     ],
     "language": "python",
     "prompt_number": 120
    },
    {
     "cell_type": "code",
     "execution_count": null,
     "metadata": {},
     "outputs": [],
     "input": [
      "frecVerbs.plot(50,cumulative=False)"
     ],
     "language": "python",
     "prompt_number": 121
    },
    {
     "cell_type": "code",
     "execution_count": null,
     "metadata": {},
     "outputs": [],
     "input": [
      "frecVebsK = frecVerbs.keys()"
     ],
     "language": "python",
     "prompt_number": 161
    },
    {
     "cell_type": "code",
     "execution_count": null,
     "metadata": {},
     "outputs": [
      {
       "output_type": "stream",
       "stream": "stdout",
       "text": [
        "27679\n"
       ]
      }
     ],
     "input": [
      "nouns_t = [t for t in text7_pos if t[1].startswith('N')]\n",
      "print len(nouns_t)\n",
      "nouns =[w[0] for w in nouns_t]\n",
      "frecNouns = FreqDist(nouns)\n",
      "frecNouns.plot(50, cumulative=False)"
     ],
     "language": "python",
     "prompt_number": 101
    },
    {
     "cell_type": "markdown",
     "metadata": {},
     "source": [
      "Regarder la référence:  Natural language processing with Python, by Steven Bird, Ewan Klein, and Edward Loper"
     ]
    },
    {
     "cell_type": "code",
     "execution_count": null,
     "metadata": {},
     "outputs": [],
     "input": [
      ""
     ],
     "language": "python"
    }
   ]
  }
 ],
 "cells": [],
 "metadata": {
  "name": "",
  "signature": "sha256:cf99f91549a2b35645ea67f725f61fe4839f44bb37d6a9b9c709dd4cca3de2cc"
 },
 "nbformat": 3,
 "nbformat_minor": 0
}