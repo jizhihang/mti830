{
 "metadata": {
  "name": "",
  "signature": "sha256:63c29e98b74c6ff99560c67857b482a15eb9f0b1d02a96cf646cfb17f0e970d4"
 },
 "nbformat": 3,
 "nbformat_minor": 0,
 "worksheets": [
  {
   "cells": [
    {
     "cell_type": "markdown",
     "metadata": {},
     "source": [
      "####Code pour examen MTI830 \n",
      "*Ce code a \u00e9t\u00e9 con\u00e7u pour python 2.7*"
     ]
    },
    {
     "cell_type": "markdown",
     "metadata": {},
     "source": [
      "D'abord nous chargeons les librairies que nous utiliserons"
     ]
    },
    {
     "cell_type": "code",
     "collapsed": false,
     "input": [
      "import glob # for reading files\n",
      "import sys # for reading files\n",
      "import os # for path processing\n",
      "import codecs #for encoding while reading files\n",
      "#import matplotlib.gridspec as gridspec\n",
      "import nltk #for nlp tasks\n",
      "lemmatizer = nltk.wordnet.WordNetLemmatizer()\n",
      "import numpy as np #for creating matrices and make operations\n",
      "from sklearn.feature_extraction.text import TfidfVectorizer # for creating a TFIDF matrice\n",
      "from sklearn.metrics.pairwise import cosine_similarity\n",
      "import matplotlib.pyplot as plt # for graphs\n"
     ],
     "language": "python",
     "metadata": {},
     "outputs": [],
     "prompt_number": 30
    },
    {
     "cell_type": "markdown",
     "metadata": {},
     "source": [
      "Nous commen\u00e7ons par une fonction qui lit un seul fichier : *readSingleFile*()"
     ]
    },
    {
     "cell_type": "code",
     "collapsed": false,
     "input": [
      "def readSingleFile (fileName):\n",
      "    contentFile = [] \n",
      "    encoding = sys.argv[1]\n",
      "\n",
      "    f = codecs.open(fileName, mode = 'rt', encoding='utf-8')\n",
      "    for line in f:\n",
      "        contentFile.append(line)\n",
      "        #contentFile.append(line.split(\t))\n",
      "    \n",
      "    return contentFile"
     ],
     "language": "python",
     "metadata": {},
     "outputs": [],
     "prompt_number": 2
    },
    {
     "cell_type": "markdown",
     "metadata": {},
     "source": [
      "Cette fonction permet de lire tous les fichiers contenus dans un dossier: *readAllFiles()*"
     ]
    },
    {
     "cell_type": "code",
     "collapsed": false,
     "input": [
      "def readAllFiles (path):\n",
      "    newPath = os.getcwd()+path\n",
      "    allFiles = glob.glob(newPath)\n",
      "    corpus_Read = []\n",
      "    for f in allFiles:\n",
      "        corpus_Read.append(readSingleFile(f))\n",
      "    return corpus_Read"
     ],
     "language": "python",
     "metadata": {},
     "outputs": [],
     "prompt_number": 33
    },
    {
     "cell_type": "markdown",
     "metadata": {},
     "source": [
      "Cette fonction retourne le nom de tous les fichiers contenus dans un dossier :"
     ]
    },
    {
     "cell_type": "code",
     "collapsed": false,
     "input": [
      "def getNameOfFiles(path):\n",
      "    nameOfFiles = []\n",
      "    newPath = os.getcwd()+path\n",
      "    allFiles = glob.glob(newPath)\n",
      "    for f in allFiles:\n",
      "        ind = len(f.split('/')) -1\n",
      "        nameOfFiles.append(f.split('/')[ind][0:2])\n",
      "    return nameOfFiles"
     ],
     "language": "python",
     "metadata": {},
     "outputs": [],
     "prompt_number": 27
    },
    {
     "cell_type": "markdown",
     "metadata": {},
     "source": [
      "Alors, nous lisons les fichiers et nous les stockons dans **documents**. Le nom des fichiers sera aussi lu, et nous le stockons dans **nameOfFiles**"
     ]
    },
    {
     "cell_type": "code",
     "collapsed": false,
     "input": [
      "path = '/CorpusNYTNews/*.txt'\n",
      "nameOfFiles = getNameOfFiles(path)\n",
      "documents = readAllFiles(path)"
     ],
     "language": "python",
     "metadata": {},
     "outputs": [],
     "prompt_number": 34
    },
    {
     "cell_type": "markdown",
     "metadata": {},
     "source": [
      "Pour cr\u00e9er la matrice TFIDF nous cr\u00e9ons la fonction *createTFIDFMatrix*. La variable **collection** doit etre un vecteur de strings, donc chaque string repr\u00e9sente un document. La variable **documents** est un vecteur qui contient d'autres vectors, c'est \u00e0 dire les documents(30), les documents sont un vecteur qui contient des strings. Pour utiliser la fonction *createTFIDFMatrix* nous devrons convertir chaque document \u00e0 string.\n"
     ]
    },
    {
     "cell_type": "code",
     "collapsed": false,
     "input": [
      "def createTFIDFMatrix(collection):\n",
      "    vectorizer = TfidfVectorizer(min_df=1)\n",
      "    matrix = vectorizer.fit_transform(collection)\n",
      "    return matrix"
     ],
     "language": "python",
     "metadata": {},
     "outputs": [],
     "prompt_number": 36
    },
    {
     "cell_type": "markdown",
     "metadata": {},
     "source": [
      "cette fonction,*transformDocumentToString*  transforme les vecteurs de documents en vecteurs de strings "
     ]
    },
    {
     "cell_type": "code",
     "collapsed": false,
     "input": [
      "def transformDocumentToString(collection):\n",
      "    stringDocuments = []\n",
      "    for d in documents:\n",
      "        sen = ''\n",
      "        for s in d:\n",
      "            sen = sen+s\n",
      "        stringDocuments.append(sen)\n",
      "    return stringDocuments"
     ],
     "language": "python",
     "metadata": {},
     "outputs": [],
     "prompt_number": 41
    },
    {
     "cell_type": "code",
     "collapsed": false,
     "input": [
      "stringDocuments = transformDocumentToString(documents)\n",
      "tf_idf_matrix = createTFIDFMatrix(stringDocuments)"
     ],
     "language": "python",
     "metadata": {},
     "outputs": [],
     "prompt_number": 42
    },
    {
     "cell_type": "markdown",
     "metadata": {},
     "source": [
      "Nous applicons SVD sur la matrice r\u00e9sultante:"
     ]
    },
    {
     "cell_type": "code",
     "collapsed": false,
     "input": [
      "dense_string_documents = tf_idf_matrix.todense()\n",
      "U, s, V = np.linalg.svd(dense_string_documents, full_matrices=True)"
     ],
     "language": "python",
     "metadata": {},
     "outputs": [],
     "prompt_number": 44
    },
    {
     "cell_type": "markdown",
     "metadata": {},
     "source": [
      "Nous cr\u00e9ons la fonction *getXAndYCoordinates* pour r\u00e9cup\u00e9rer les coordonn\u00e9es et pouvoir visualiser la postion des documents"
     ]
    },
    {
     "cell_type": "code",
     "collapsed": false,
     "input": [
      "def getXAndYCoordinates(variableOfDocuments):\n",
      "    coord_x = []\n",
      "    for c in variableOfDocuments[0:,2]:\n",
      "        coord_x.append(c.item(0))\n",
      "\n",
      "    coord_y = []\n",
      "    for c in variableOfDocuments[0:,3]:\n",
      "        coord_y.append(c.item(0))\n",
      "    return coord_x, coord_y"
     ],
     "language": "python",
     "metadata": {},
     "outputs": [],
     "prompt_number": 45
    },
    {
     "cell_type": "markdown",
     "metadata": {},
     "source": [
      "Dans quelle variable se retrouve les vecteurs correspondants aux documents **U, s ou V**? appelez la fonction *getXAndYCoordinates* avec la variable correcte."
     ]
    },
    {
     "cell_type": "code",
     "collapsed": false,
     "input": [
      "coord_X,coord_Y = getXAndYCoordinates(????)"
     ],
     "language": "python",
     "metadata": {},
     "outputs": [],
     "prompt_number": 46
    },
    {
     "cell_type": "markdown",
     "metadata": {},
     "source": [
      "Finalement nous visualisons les documents dans un graphique."
     ]
    },
    {
     "cell_type": "code",
     "collapsed": false,
     "input": [
      "fig = plt.figure()\n",
      "ax = fig.add_subplot(111)\n",
      "plt.plot(coord_X, coord_Y, 'ro')\n",
      "i = 0\n",
      "\n",
      "while i < len(nameOfFiles):\n",
      "    tag = nameOfFiles[i]\n",
      "    xy = (coord_X[i],coord_Y[i])\n",
      "    ax.annotate('%s'%tag, xy=xy, textcoords='offset points')\n",
      "    i = i+1\n",
      "\n",
      "plt.show()"
     ],
     "language": "python",
     "metadata": {},
     "outputs": [],
     "prompt_number": 50
    },
    {
     "cell_type": "markdown",
     "metadata": {},
     "source": [
      "#Bonne chance!!!"
     ]
    },
    {
     "cell_type": "code",
     "collapsed": false,
     "input": [],
     "language": "python",
     "metadata": {},
     "outputs": []
    }
   ],
   "metadata": {}
  }
 ]
}